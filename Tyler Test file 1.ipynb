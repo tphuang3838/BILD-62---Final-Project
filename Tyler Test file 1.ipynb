{
 "cells": [
  {
   "cell_type": "code",
   "execution_count": 52,
   "id": "ca5000a1",
   "metadata": {},
   "outputs": [],
   "source": [
    "from time import sleep\n",
    "from random import randint\n",
    "\n",
    "def questions(question, options, correct, amount):\n",
    "    money = 0\n",
    "    print(question)\n",
    "    print(options)\n",
    "    user_answer = input(\"What is the correct answer?\")\n",
    "    if user_answer.upper() == correct:\n",
    "        print(\"Good Job!\")\n",
    "        money += amount\n",
    "        print(\"$\" + str(money))\n",
    "    else:\n",
    "        print(\"Oops! Game Over!\")\n",
    "        money = 0\n",
    "        print(\"$\" + str(money))\n",
    "\n",
    "question1 = \"FIRST, THE $50 QUESTION: What is the biggest currency in Europe?\"\n",
    "options1 = \"(A) Afro (B) Asio (C) Australio (D) Euro \"\n",
    "correct1 = \"D\"\n",
    "amount1 = 50\n",
    "\n",
    "question2 = \"THE $100 QUESTION: Which of these kills its victims by constriction?\"\n",
    "options2 = [\"A) Andalucia B) Anaconda C) Andypandy D) Annerobinson\"]\n",
    "correct2 = \"B\"\n",
    "amount2 = 100"
   ]
  },
  {
   "cell_type": "code",
   "execution_count": 54,
   "id": "44d7cf33",
   "metadata": {},
   "outputs": [
    {
     "ename": "TypeError",
     "evalue": "questions() missing 2 required positional arguments: 'correct' and 'amount'",
     "output_type": "error",
     "traceback": [
      "\u001b[0;31m---------------------------------------------------------------------------\u001b[0m",
      "\u001b[0;31mTypeError\u001b[0m                                 Traceback (most recent call last)",
      "\u001b[0;32m/tmp/ipykernel_129/3362730123.py\u001b[0m in \u001b[0;36m<module>\u001b[0;34m\u001b[0m\n\u001b[1;32m      1\u001b[0m \u001b[0masks\u001b[0m \u001b[0;34m=\u001b[0m \u001b[0;34m[\u001b[0m\u001b[0;34m(\u001b[0m\u001b[0mquestion1\u001b[0m\u001b[0;34m,\u001b[0m \u001b[0moptions1\u001b[0m\u001b[0;34m,\u001b[0m \u001b[0mcorrect1\u001b[0m\u001b[0;34m,\u001b[0m \u001b[0mamount1\u001b[0m\u001b[0;34m)\u001b[0m\u001b[0;34m,\u001b[0m \u001b[0;34m(\u001b[0m\u001b[0mquestion2\u001b[0m\u001b[0;34m,\u001b[0m \u001b[0moptions2\u001b[0m\u001b[0;34m,\u001b[0m \u001b[0mcorrect2\u001b[0m\u001b[0;34m,\u001b[0m \u001b[0mamount2\u001b[0m\u001b[0;34m)\u001b[0m\u001b[0;34m]\u001b[0m\u001b[0;34m\u001b[0m\u001b[0;34m\u001b[0m\u001b[0m\n\u001b[1;32m      2\u001b[0m \u001b[0;32mfor\u001b[0m \u001b[0mquest\u001b[0m \u001b[0;32min\u001b[0m \u001b[0masks\u001b[0m\u001b[0;34m:\u001b[0m\u001b[0;34m\u001b[0m\u001b[0;34m\u001b[0m\u001b[0m\n\u001b[0;32m----> 3\u001b[0;31m     \u001b[0mprint\u001b[0m\u001b[0;34m(\u001b[0m\u001b[0mquestions\u001b[0m\u001b[0;34m(\u001b[0m\u001b[0;34m*\u001b[0m\u001b[0masks\u001b[0m\u001b[0;34m)\u001b[0m\u001b[0;34m)\u001b[0m\u001b[0;34m\u001b[0m\u001b[0;34m\u001b[0m\u001b[0m\n\u001b[0m",
      "\u001b[0;31mTypeError\u001b[0m: questions() missing 2 required positional arguments: 'correct' and 'amount'"
     ]
    }
   ],
   "source": [
    "asks = [(question1, options1, correct1, amount1), (question2, options2, correct2, amount2)]       \n",
    "for quest in asks:\n",
    "    print(questions(*asks))"
   ]
  },
  {
   "cell_type": "code",
   "execution_count": 30,
   "id": "3b143c96",
   "metadata": {
    "scrolled": true
   },
   "outputs": [
    {
     "name": "stdout",
     "output_type": "stream",
     "text": [
      "FIRST, THE $50 QUESTION: What is the biggest currency in Europe?\n",
      "(A) Afro (B) Asio (C) Australio (D) Euro \n",
      "What is the correct answer?A\n",
      "Oops! Game Over!\n",
      "$0\n"
     ]
    }
   ],
   "source": [
    "questions(question1, options1, correct1, amount1)"
   ]
  }
 ],
 "metadata": {
  "kernelspec": {
   "display_name": "Python 3 (ipykernel)",
   "language": "python",
   "name": "python3"
  },
  "language_info": {
   "codemirror_mode": {
    "name": "ipython",
    "version": 3
   },
   "file_extension": ".py",
   "mimetype": "text/x-python",
   "name": "python",
   "nbconvert_exporter": "python",
   "pygments_lexer": "ipython3",
   "version": "3.9.5"
  }
 },
 "nbformat": 4,
 "nbformat_minor": 5
}
